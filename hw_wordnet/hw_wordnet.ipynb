{
 "cells": [
  {
   "cell_type": "code",
   "execution_count": 8,
   "metadata": {
    "collapsed": true
   },
   "outputs": [],
   "source": [
    "from nltk.corpus import wordnet"
   ]
  },
  {
   "cell_type": "markdown",
   "metadata": {},
   "source": [
    "## 1.\n",
    " Найти все значения (синсеты) для лексемы *mole* "
   ]
  },
  {
   "cell_type": "code",
   "execution_count": 9,
   "metadata": {},
   "outputs": [
    {
     "name": "stdout",
     "output_type": "stream",
     "text": [
      "Synset('gram_molecule.n.01') the molecular weight of a substance expressed in grams; the basic unit of amount of substance adopted under the Systeme International d'Unites\n",
      "Synset('counterspy.n.01') a spy who works against enemy espionage\n",
      "Synset('mole.n.03') spicy sauce often containing chocolate\n",
      "Synset('mole.n.04') a small congenital pigmented spot on the skin\n",
      "Synset('breakwater.n.01') a protective structure of stone or concrete; extends from shore into the water to prevent a beach from washing away\n",
      "Synset('mole.n.06') small velvety-furred burrowing mammal having small eyes and fossorial forefeet\n"
     ]
    }
   ],
   "source": [
    "mole = wordnet.synsets('mole')\n",
    "for ss in mole:\n",
    "    print(ss, ss.definition())"
   ]
  },
  {
   "cell_type": "markdown",
   "metadata": {},
   "source": [
    "## 2.\n",
    "Найти определение для лексемы mole в значении (а) \"родинка\" и в значении (b) \"крот\""
   ]
  },
  {
   "cell_type": "code",
   "execution_count": 10,
   "metadata": {},
   "outputs": [
    {
     "data": {
      "text/plain": [
       "(Synset('mole.n.04'), 'a small congenital pigmented spot on the skin')"
      ]
     },
     "execution_count": 10,
     "metadata": {},
     "output_type": "execute_result"
    }
   ],
   "source": [
    "# родинка\n",
    "mole[3], mole[3].definition()"
   ]
  },
  {
   "cell_type": "code",
   "execution_count": 12,
   "metadata": {},
   "outputs": [
    {
     "data": {
      "text/plain": [
       "(Synset('mole.n.06'),\n",
       " 'small velvety-furred burrowing mammal having small eyes and fossorial forefeet')"
      ]
     },
     "execution_count": 12,
     "metadata": {},
     "output_type": "execute_result"
    }
   ],
   "source": [
    "# крот\n",
    "mole[5], mole[5].definition()"
   ]
  },
  {
   "cell_type": "markdown",
   "metadata": {},
   "source": [
    "## 3.\n",
    "Найдите два произвольных контекста для слова plant в значениях (a) \"родинка\" и (b) \"крот\"; продемонстрируйте на них действие алгоритма Леска для разрешения неоднозначности"
   ]
  },
  {
   "cell_type": "code",
   "execution_count": 13,
   "metadata": {
    "collapsed": true
   },
   "outputs": [],
   "source": [
    "spot = 'I just came from the doctor and the mole is absolutely fine.'\n",
    "animal = 'When a mole digs a tunnel where does the dirt go?'"
   ]
  },
  {
   "cell_type": "code",
   "execution_count": 14,
   "metadata": {
    "collapsed": true
   },
   "outputs": [],
   "source": [
    "spot_tokens = [i.strip('.?') for i in spot.split()]\n",
    "animal_tokens = [i.strip('.?') for i in animal.split()]"
   ]
  },
  {
   "cell_type": "code",
   "execution_count": 15,
   "metadata": {},
   "outputs": [
    {
     "data": {
      "text/plain": [
       "(['I',\n",
       "  'just',\n",
       "  'came',\n",
       "  'from',\n",
       "  'the',\n",
       "  'doctor',\n",
       "  'and',\n",
       "  'the',\n",
       "  'mole',\n",
       "  'is',\n",
       "  'absolutely',\n",
       "  'fine'],\n",
       " ['When',\n",
       "  'a',\n",
       "  'mole',\n",
       "  'digs',\n",
       "  'a',\n",
       "  'tunnel',\n",
       "  'where',\n",
       "  'does',\n",
       "  'the',\n",
       "  'dirt',\n",
       "  'go'])"
      ]
     },
     "execution_count": 15,
     "metadata": {},
     "output_type": "execute_result"
    }
   ],
   "source": [
    "spot_tokens, animal_tokens"
   ]
  },
  {
   "cell_type": "code",
   "execution_count": 17,
   "metadata": {},
   "outputs": [
    {
     "name": "stdout",
     "output_type": "stream",
     "text": [
      "a protective structure of stone or concrete; extends from shore into the water to prevent a beach from washing away\n"
     ]
    }
   ],
   "source": [
    "from nltk.wsd import lesk\n",
    "print(lesk(spot_tokens, 'mole').definition())"
   ]
  },
  {
   "cell_type": "code",
   "execution_count": 18,
   "metadata": {},
   "outputs": [
    {
     "name": "stdout",
     "output_type": "stream",
     "text": [
      "a small congenital pigmented spot on the skin\n"
     ]
    }
   ],
   "source": [
    "print(lesk(animal_tokens, 'mole').definition())"
   ]
  },
  {
   "cell_type": "markdown",
   "metadata": {},
   "source": [
    "Алгоритм Леска ошибся в обоих случаях. "
   ]
  },
  {
   "cell_type": "markdown",
   "metadata": {},
   "source": [
    "## 4.\n",
    "Найдите гиперонимы для значения (a) и гиперонимы для значения (b)"
   ]
  },
  {
   "cell_type": "code",
   "execution_count": 20,
   "metadata": {},
   "outputs": [
    {
     "name": "stdout",
     "output_type": "stream",
     "text": [
      "Synset('blemish.n.01') a mark or flaw that spoils the appearance of something (especially on a person's body)\n"
     ]
    }
   ],
   "source": [
    "for ss in mole[3].hypernyms():\n",
    "    print(ss, ss.definition())"
   ]
  },
  {
   "cell_type": "code",
   "execution_count": 21,
   "metadata": {},
   "outputs": [
    {
     "name": "stdout",
     "output_type": "stream",
     "text": [
      "Synset('insectivore.n.01') small insect-eating mainly nocturnal terrestrial or fossorial mammals\n"
     ]
    }
   ],
   "source": [
    "for ss in mole[5].hypernyms():\n",
    "    print(ss, ss.definition())"
   ]
  },
  {
   "cell_type": "markdown",
   "metadata": {},
   "source": [
    "## 5.\n",
    "Вычислите наименьшее расстояние между значением mole \"родинка\" и значениями лексемы face, а также mole \"крот\" и значениями лексемы digger. "
   ]
  },
  {
   "cell_type": "code",
   "execution_count": 22,
   "metadata": {
    "collapsed": true
   },
   "outputs": [],
   "source": [
    "def get_dist_sim(ss1, lexeme):\n",
    "    distances = []\n",
    "    similarities = []\n",
    "    for ss2 in lexeme:\n",
    "        dist = ss1.shortest_path_distance(ss2)\n",
    "        if dist is not None:\n",
    "            distances.append(dist)\n",
    "            sim = ss1.path_similarity(ss2)\n",
    "            similarities.append(sim)\n",
    "    return distances, similarities"
   ]
  },
  {
   "cell_type": "code",
   "execution_count": 41,
   "metadata": {
    "collapsed": true
   },
   "outputs": [],
   "source": [
    "face = wordnet.synsets('face')\n",
    "digger = wordnet.synsets('digger')"
   ]
  },
  {
   "cell_type": "code",
   "execution_count": 42,
   "metadata": {
    "scrolled": true
   },
   "outputs": [
    {
     "name": "stdout",
     "output_type": "stream",
     "text": [
      "min d(mole: \"родинка\", face): 3\n",
      "closest lemma definition: the general outward appearance of something\n",
      "\n",
      "min d(mole: \"родинка\", digger): 14\n",
      "closest lemma definition: a laborer who digs\n",
      "\n",
      "min d(mole: \"крот\", face): 9\n",
      "closest lemma definition: a part of a person that is used to refer to a person\n",
      "\n",
      "min d(mole: \"крот\", digger): 13\n",
      "closest lemma definition: a laborer who digs\n",
      "\n",
      "min (d(mole: \"родинка\", face), d(mole: \"родинка\", digger)): 3\n",
      "min (d(mole: \"крот\", face), d(mole: \"крот\", digger)): 9\n"
     ]
    }
   ],
   "source": [
    "# min d(mole \"родинка\", face)\n",
    "dist1 = get_dist_sim(mole[3], face)[0]\n",
    "print('min d(mole: \"родинка\", face): {}'.format(min(dist1)))\n",
    "print('closest lemma definition: {}\\n'.format(face[dist1.index(min(dist1))].definition()))\n",
    "# Правда, здесь выводится только одно ближайшее значение. Их может быть несколько.\n",
    "\n",
    "# min d(mole \"родинка\", digger)\n",
    "dist2 = get_dist_sim(mole[3], digger)[0]\n",
    "print('min d(mole: \"родинка\", digger): {}'.format(min(dist2)))\n",
    "print('closest lemma definition: {}\\n'.format(digger[dist2.index(min(dist2))].definition()))\n",
    "\n",
    "# min d(mole: \"крот\", face)\n",
    "dist3 = get_dist_sim(mole[5], face)[0]\n",
    "print('min d(mole: \"крот\", face): {}'.format(min(dist3)))\n",
    "print('closest lemma definition: {}\\n'.format(face[dist3.index(min(dist3))].definition()))\n",
    "\n",
    "# min d(mole: \"крот\", digger)\n",
    "dist4 = get_dist_sim(mole[5], digger)[0]\n",
    "print('min d(mole: \"крот\", digger): {}'.format(min(dist4)))\n",
    "print('closest lemma definition: {}\\n'.format(digger[dist4.index(min(dist4))].definition()))\n",
    "\n",
    "print('min (d(mole: \"родинка\", face), d(mole: \"родинка\", digger)): {}'.format(min(min(dist1), min(dist2))))\n",
    "print('min (d(mole: \"крот\", face), d(mole: \"крот\", digger)): {}'.format(min(min(dist3), min(dist4))))"
   ]
  },
  {
   "cell_type": "code",
   "execution_count": 43,
   "metadata": {},
   "outputs": [
    {
     "name": "stdout",
     "output_type": "stream",
     "text": [
      "min d(mole: \"родинка\", face): 0.06666666666666667\n",
      "closest lemma definition: a surface forming part of the outside of an object\n",
      "\n",
      "min d(mole: \"родинка\", digger): 0.06666666666666667\n",
      "closest lemma definition: a laborer who digs\n",
      "\n",
      "min d(mole: \"крот\", face): 0.047619047619047616\n",
      "closest lemma definition: a specific size and style of type within a type family\n",
      "\n",
      "min d(mole: \"крот\", digger): 0.06666666666666667\n",
      "closest lemma definition: a machine for excavating\n",
      "\n",
      "min (d(mole: \"родинка\", face), d(mole: \"родинка\", digger)): 0.06666666666666667\n",
      "min (d(mole: \"крот\", face), d(mole: \"крот\", digger)): 0.047619047619047616\n"
     ]
    }
   ],
   "source": [
    "# min d(mole \"родинка\", face)\n",
    "dist1 = get_dist_sim(mole[3], face)[1]\n",
    "print('min d(mole: \"родинка\", face): {}'.format(min(dist1)))\n",
    "print('closest lemma definition: {}\\n'.format(face[dist1.index(min(dist1))].definition()))\n",
    "# Правда, здесь выводится только одно ближайшее значение. Их может быть несколько.\n",
    "\n",
    "# min d(mole \"родинка\", digger)\n",
    "dist2 = get_dist_sim(mole[3], digger)[1]\n",
    "print('min d(mole: \"родинка\", digger): {}'.format(min(dist2)))\n",
    "print('closest lemma definition: {}\\n'.format(digger[dist2.index(min(dist2))].definition()))\n",
    "\n",
    "# min d(mole: \"крот\", face)\n",
    "dist3 = get_dist_sim(mole[5], face)[1]\n",
    "print('min d(mole: \"крот\", face): {}'.format(min(dist3)))\n",
    "print('closest lemma definition: {}\\n'.format(face[dist3.index(min(dist3))].definition()))\n",
    "\n",
    "# min d(mole: \"крот\", digger)\n",
    "dist4 = get_dist_sim(mole[5], digger)[1]\n",
    "print('min d(mole: \"крот\", digger): {}'.format(min(dist4)))\n",
    "print('closest lemma definition: {}\\n'.format(digger[dist4.index(min(dist4))].definition()))\n",
    "\n",
    "print('min (d(mole: \"родинка\", face), d(mole: \"родинка\", digger)): {}'.format(min(min(dist1), min(dist2))))\n",
    "print('min (d(mole: \"крот\", face), d(mole: \"крот\", digger)): {}'.format(min(min(dist3), min(dist4))))"
   ]
  },
  {
   "cell_type": "markdown",
   "metadata": {},
   "source": [
    "По расстоянию \"родинка\" и \"крот\" ближе к \"face\", чем к \"digger\". В случае родинки - хорошо, в случае крота - скорее странно. По сходству путей на основе кратчайшего расстояния все примерно так же, однако расстояние от \"родинки\" до face и до digger одинаковое,что тоже странно. "
   ]
  },
  {
   "cell_type": "markdown",
   "metadata": {},
   "source": [
    "## 6.\n",
    "Вычислить двумя разными способами расстояние:\n",
    "d(mole: \"крот\", sow) и d(organism, whole)  \n",
    "sow - самка крота  (согласно википедии)   \n",
    "Я буду использовать Leacock-Chodorow Similarity и Wu-Palmer Similarity,"
   ]
  },
  {
   "cell_type": "code",
   "execution_count": 47,
   "metadata": {
    "scrolled": false
   },
   "outputs": [
    {
     "name": "stdout",
     "output_type": "stream",
     "text": [
      "Synset('sow.n.01') an adult female hog\n",
      "Synset('sow.v.01') place (seeds) in or on the ground for future growth\n",
      "Synset('sow.v.02') introduce into an environment\n",
      "Synset('inseminate.v.01') place seeds in or on (the ground)\n"
     ]
    }
   ],
   "source": [
    "sow = wordnet.synsets(\"sow\")\n",
    "for ss in sow:\n",
    "    print(ss, ss.definition())"
   ]
  },
  {
   "cell_type": "markdown",
   "metadata": {},
   "source": [
    "А здесь это самка свиньи. Ну почти."
   ]
  },
  {
   "cell_type": "code",
   "execution_count": 50,
   "metadata": {},
   "outputs": [
    {
     "name": "stdout",
     "output_type": "stream",
     "text": [
      "1.6916760106710724\n",
      "0.7857142857142857\n"
     ]
    }
   ],
   "source": [
    "#Leacock-Chodorow Similarity\n",
    "print(mole[5].lch_similarity(sow[0]))\n",
    "\n",
    "#Wu-Palmer Similarity\n",
    "print(mole[5].wup_similarity(sow[0]))"
   ]
  },
  {
   "cell_type": "code",
   "execution_count": 48,
   "metadata": {},
   "outputs": [
    {
     "name": "stdout",
     "output_type": "stream",
     "text": [
      "Synset('organism.n.01') a living thing that has (or can develop) the ability to act or function independently\n",
      "Synset('organism.n.01') []\n",
      "Synset('organism.n.02') a system considered analogous in structure or function to a living body\n",
      "Synset('organism.n.02') ['the social organism']\n"
     ]
    }
   ],
   "source": [
    "organism = wordnet.synsets('organism')\n",
    "for ss in organism:\n",
    "    print(ss, ss.definition())\n",
    "    print(ss, ss.examples())"
   ]
  },
  {
   "cell_type": "code",
   "execution_count": 49,
   "metadata": {},
   "outputs": [
    {
     "name": "stdout",
     "output_type": "stream",
     "text": [
      "Synset('whole.n.01') all of something including all its component elements or parts\n",
      "Synset('whole.n.01') ['Europe considered as a whole', 'the whole of American literature']\n",
      "Synset('whole.n.02') an assemblage of parts that is regarded as a single entity\n",
      "Synset('whole.n.02') ['how big is that part compared to the whole?', 'the team is a unit']\n"
     ]
    }
   ],
   "source": [
    "whole = wordnet.synsets('whole', 'n')\n",
    "for ss in whole:\n",
    "    print(ss, ss.definition())\n",
    "    print(ss, ss.examples())"
   ]
  },
  {
   "cell_type": "code",
   "execution_count": 52,
   "metadata": {},
   "outputs": [
    {
     "name": "stdout",
     "output_type": "stream",
     "text": [
      "a living thing that has (or can develop) the ability to act or function independently\n",
      "all of something including all its component elements or parts\n",
      "1.072636802264849\n",
      "0.14285714285714285\n",
      "an assemblage of parts that is regarded as a single entity\n",
      "2.538973871058276\n",
      "0.8\n",
      "a system considered analogous in structure or function to a living body\n",
      "all of something including all its component elements or parts\n",
      "1.3350010667323402\n",
      "0.3076923076923077\n",
      "an assemblage of parts that is regarded as a single entity\n",
      "1.55814461804655\n",
      "0.2222222222222222\n"
     ]
    }
   ],
   "source": [
    "for ss1 in organism:\n",
    "    print(ss1.definition())\n",
    "    for ss2 in whole:\n",
    "        print(ss2.definition())\n",
    "\n",
    "        #Leacock-Chodorow Similarity\n",
    "        print(ss1.lch_similarity(ss2))\n",
    "\n",
    "        #Wu-Palmer Similarity\n",
    "        print(ss1.wup_similarity(ss2))\n"
   ]
  },
  {
   "cell_type": "markdown",
   "metadata": {},
   "source": [
    "|                                   | Leacock-Chodorow   | Wu-Palmer           |\n",
    "|-----------------------------------|--------------------|---------------------|\n",
    "| mole/sow                          | 1.6916760106710724 | 0.7857142857142857  |\n",
    "| a living thing / all of something | 1.072636802264849  | 0.14285714285714285 |\n",
    "| a living thing / an assemblage    | 2.538973871058276  | 0.8                 |\n",
    "| a system / all of something       | 1.3350010667323402 | 0.3076923076923077  |\n",
    "| a system / an assemblage          | 1.55814461804655   | 0.2222222222222222  |"
   ]
  },
  {
   "cell_type": "markdown",
   "metadata": {},
   "source": [
    "+ И по метрике Leacock-Chodorow, и по метрике Wu-Palmer между mole и sow почти самое большое расстояние среди всех рассмотренных пар. (Дальше друг от друга только пара a living thing / an assemblage). Что неудивительно, учитывая, что в wordnet sow относится к свинье, а не к кроту. \n",
    "+ По моим интуитивным представлениям, если говорить про organism и whole, кажется, что наиболее близкими друг к другу должны быть слова в парах a system / all of something и a system / an assemblage. Но это не совсем так.\n",
    "+ Между словами в паре a system / an assemblage действительно по обеим метрикам расстояние меньше, чем между словами в паре a living thing / an assemblage.\n",
    "+ Однако пара a living thing / all of something по обем метрикам превосходит пару a system / all of something. "
   ]
  }
 ],
 "metadata": {
  "kernelspec": {
   "display_name": "Python 3",
   "language": "python",
   "name": "python3"
  },
  "language_info": {
   "codemirror_mode": {
    "name": "ipython",
    "version": 3
   },
   "file_extension": ".py",
   "mimetype": "text/x-python",
   "name": "python",
   "nbconvert_exporter": "python",
   "pygments_lexer": "ipython3",
   "version": "3.6.3"
  }
 },
 "nbformat": 4,
 "nbformat_minor": 2
}
