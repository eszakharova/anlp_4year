{
 "cells": [
  {
   "cell_type": "code",
   "execution_count": 1,
   "metadata": {
    "collapsed": true
   },
   "outputs": [],
   "source": [
    "import regex as re\n",
    "import pandas as pd\n",
    "import numpy as np\n",
    "import nltk\n",
    "from nltk.collocations import *\n",
    "from scipy.stats import spearmanr"
   ]
  },
  {
   "cell_type": "code",
   "execution_count": 2,
   "metadata": {
    "collapsed": true
   },
   "outputs": [],
   "source": [
    "df = pd.read_csv('court-V-N.csv') # corpus\n",
    "rows = list(map(list, df.values)) # list of rows in corpus\n",
    "bigram_measures = nltk.collocations.BigramAssocMeasures()\n",
    "finder = BigramCollocationFinder.from_documents(rows)"
   ]
  },
  {
   "cell_type": "markdown",
   "metadata": {},
   "source": [
    "Я буду использовать метрики **likelihood ratio** и **jaccard**"
   ]
  },
  {
   "cell_type": "code",
   "execution_count": 6,
   "metadata": {},
   "outputs": [
    {
     "data": {
      "text/plain": [
       "'Scores ngrams using the Jaccard index.'"
      ]
     },
     "execution_count": 6,
     "metadata": {},
     "output_type": "execute_result"
    }
   ],
   "source": [
    "bigram_measures.jaccard.__doc__"
   ]
  },
  {
   "cell_type": "code",
   "execution_count": 7,
   "metadata": {
    "scrolled": true
   },
   "outputs": [],
   "source": [
    "top_jaccard = finder.nbest(bigram_measures.jaccard, 10)"
   ]
  },
  {
   "cell_type": "code",
   "execution_count": 19,
   "metadata": {},
   "outputs": [
    {
     "data": {
      "text/plain": [
       "'Scores ngrams using likelihood ratios as in Manning and Schutze 5.3.4.\\n        '"
      ]
     },
     "execution_count": 19,
     "metadata": {},
     "output_type": "execute_result"
    }
   ],
   "source": [
    "bigram_measures.likelihood_ratio.__doc__"
   ]
  },
  {
   "cell_type": "code",
   "execution_count": 20,
   "metadata": {
    "collapsed": true
   },
   "outputs": [],
   "source": [
    "top_lr = finder.nbest(bigram_measures.likelihood_ratio, 10)"
   ]
  },
  {
   "cell_type": "code",
   "execution_count": 22,
   "metadata": {
    "collapsed": true
   },
   "outputs": [],
   "source": [
    "list_with_scores_lr = list(finder.score_ngrams(bigram_measures.likelihood_ratio))\n",
    "list_no_scores_lr = [(x[0][0].strip(' '), x[0][1].strip(' ')) for x in list_with_scores_lr]\n",
    "list_with_scores_jaccard = list(finder.score_ngrams(bigram_measures.jaccard))\n",
    "list_no_scores_jaccard = [(x[0][0].strip(' '), x[0][1].strip(' ')) for x in list_with_scores_jaccard]"
   ]
  },
  {
   "cell_type": "code",
   "execution_count": 58,
   "metadata": {
    "collapsed": true
   },
   "outputs": [],
   "source": [
    "gold_st = [((\"ПРИНЯТЬ\", \"РЕШЕНИЕ\"),1), ((\"ВЫНЕСТИ\", \"ПРИГОВОР\"),2), ((\"УДОВЛЕТВОРИТЬ\", \"ИСК\"),3), \n",
    "                ((\"ПРИЗНАТЬ\", \"ВИНОВНАЯ\"),4), ((\"ПРИГОВОРИТЬ\", \"ЗАКЛЮЧЕНИЕ\"),5), \n",
    "                ((\"ПРОДЛИТЬ\", \"СРОК\"),6), ((\"ОБЖАЛОВАТЬ\", \"ПРИГОВОР\"),7), ((\"ПРЕКРАТИТЬ\", \"ДЕЛО\"),8), \n",
    "                ((\"ОТКЛОНИТЬ\", \"ИСК\"),9), ((\"ПРИЗНАТЬ\", \"СООБЩНИК\"),10)]"
   ]
  },
  {
   "cell_type": "code",
   "execution_count": 59,
   "metadata": {
    "scrolled": true
   },
   "outputs": [
    {
     "name": "stdout",
     "output_type": "stream",
     "text": [
      "Likelihood Ratio:\n",
      "(5, (('ПРИНЯТЬ', 'РЕШЕНИЕ'), 1))\n",
      "(86, (('ВЫНЕСТИ', 'ПРИГОВОР'), 2))\n",
      "(3, (('УДОВЛЕТВОРИТЬ', 'ИСК'), 3))\n",
      "(12, (('ПРИЗНАТЬ', 'ВИНОВНАЯ'), 4))\n",
      "(2250, (('ПРИГОВОРИТЬ', 'ЗАКЛЮЧЕНИЕ'), 5))\n",
      "(193, (('ПРОДЛИТЬ', 'СРОК'), 6))\n",
      "(2123, (('ОБЖАЛОВАТЬ', 'ПРИГОВОР'), 7))\n",
      "(1648, (('ПРЕКРАТИТЬ', 'ДЕЛО'), 8))\n",
      "(80, (('ОТКЛОНИТЬ', 'ИСК'), 9))\n",
      "(2146, (('ПРИЗНАТЬ', 'СООБЩНИК'), 10))\n",
      "\n",
      "\n",
      "Jaccard:\n",
      "(903, (('ПРИНЯТЬ', 'РЕШЕНИЕ'), 1))\n",
      "(1249, (('ВЫНЕСТИ', 'ПРИГОВОР'), 2))\n",
      "(772, (('УДОВЛЕТВОРИТЬ', 'ИСК'), 3))\n",
      "(1006, (('ПРИЗНАТЬ', 'ВИНОВНАЯ'), 4))\n",
      "(1978, (('ПРИГОВОРИТЬ', 'ЗАКЛЮЧЕНИЕ'), 5))\n",
      "(1005, (('ПРОДЛИТЬ', 'СРОК'), 6))\n",
      "(1847, (('ОБЖАЛОВАТЬ', 'ПРИГОВОР'), 7))\n",
      "(1899, (('ПРЕКРАТИТЬ', 'ДЕЛО'), 8))\n",
      "(1369, (('ОТКЛОНИТЬ', 'ИСК'), 9))\n",
      "(2202, (('ПРИЗНАТЬ', 'СООБЩНИК'), 10))\n"
     ]
    }
   ],
   "source": [
    "ranks_golden = [p[1] for p in gold_st]\n",
    "ranks_lr = [list_no_scores_lr.index(i[0]) if i[0] in list_no_scores_lr else None for i in gold_st]\n",
    "ranks_jaccard = [list_no_scores_jaccard.index(i[0]) if i[0] in list_no_scores_jaccard else None for i in gold_st]\n",
    "# print('gold', list(zip(ranks_golden, gold_st)))\n",
    "print('Likelihood Ratio:')\n",
    "print('\\n'.join(map(str, list(zip(ranks_lr, gold_st)))))\n",
    "print('\\n')\n",
    "print('Jaccard:')\n",
    "print('\\n'.join(map(str, list(zip(ranks_jaccard, gold_st)))))\n"
   ]
  },
  {
   "cell_type": "code",
   "execution_count": 54,
   "metadata": {
    "scrolled": true
   },
   "outputs": [
    {
     "data": {
      "text/plain": [
       "[('СУД ', 'ПРИЗНАТЬ '),\n",
       " ('ВЫДАТЬ ', 'САНКЦИЯ '),\n",
       " ('СУД ', 'УДОВЛЕТВОРИТЬ '),\n",
       " ('УДОВЛЕТВОРИТЬ ', 'ИСК '),\n",
       " ('УДОВЛЕТВОРИТЬ ', 'ХОДАТАЙСТВО '),\n",
       " ('ПРИНЯТЬ ', 'РЕШЕНИЕ '),\n",
       " ('САНКЦИЯ ', 'АРЕСТ '),\n",
       " ('МЕРА ', 'ПРЕСЕЧЕНИЕ '),\n",
       " ('НАЛОЖИТЬ ', 'АРЕСТ '),\n",
       " ('СУД ', 'ВЫНЕСТИ ')]"
      ]
     },
     "execution_count": 54,
     "metadata": {},
     "output_type": "execute_result"
    }
   ],
   "source": [
    "# топ-коллокации по метрике loglikelihood ratio\n",
    "top_lr"
   ]
  },
  {
   "cell_type": "code",
   "execution_count": 55,
   "metadata": {},
   "outputs": [
    {
     "data": {
      "text/plain": [
       "[(' АКЦИОНЕР ', 'РОЗНИЧНЫЙ '),\n",
       " (' АРМИЯ ', 'ВОССТАНОВИТЬСЯ '),\n",
       " (' БОЛЬШИНСТВО ', 'СООТЕЧЕСТВЕННИК '),\n",
       " (' БРИГАДИР ', 'ВИКТОР '),\n",
       " (' ВЕСТИ ', 'ПЕРЕГОВОРЫ '),\n",
       " (' ВЗЯТЬ ', 'РЕАЛИЗАЦИЯ '),\n",
       " (' ВОЗГЛАВИТЬ ', 'СПИСОК '),\n",
       " (' ВРЕМЯ ', 'КНЯЗЕВ '),\n",
       " (' ВСПОМИНАТЬСЯ ', 'ПОПЫТКА '),\n",
       " (' ДОЛЛАР ', 'ПОТРАТИТЬ ')]"
      ]
     },
     "execution_count": 55,
     "metadata": {},
     "output_type": "execute_result"
    }
   ],
   "source": [
    "# топ-коллокации по метрике jaccard\n",
    "top_jaccard"
   ]
  },
  {
   "cell_type": "code",
   "execution_count": 50,
   "metadata": {
    "collapsed": true
   },
   "outputs": [],
   "source": [
    "from nltk.metrics.spearman import *"
   ]
  },
  {
   "cell_type": "code",
   "execution_count": 51,
   "metadata": {
    "collapsed": true
   },
   "outputs": [],
   "source": [
    "ranks_golden = np.array(ranks_golden, dtype=np.float)\n",
    "ranks_lr = np.array(ranks_lr, dtype=np.float)\n",
    "ranks_jaccard = np.array(ranks_jaccard, dtype=np.float)"
   ]
  },
  {
   "cell_type": "code",
   "execution_count": 52,
   "metadata": {},
   "outputs": [
    {
     "data": {
      "text/plain": [
       "SpearmanrResult(correlation=0.58787878787878778, pvalue=0.07387770688865801)"
      ]
     },
     "execution_count": 52,
     "metadata": {},
     "output_type": "execute_result"
    }
   ],
   "source": [
    "spearmanr(ranks_golden,ranks_lr, nan_policy='omit')"
   ]
  },
  {
   "cell_type": "code",
   "execution_count": 53,
   "metadata": {
    "scrolled": true
   },
   "outputs": [
    {
     "data": {
      "text/plain": [
       "SpearmanrResult(correlation=0.70909090909090899, pvalue=0.021665923367532435)"
      ]
     },
     "execution_count": 53,
     "metadata": {},
     "output_type": "execute_result"
    }
   ],
   "source": [
    "spearmanr(ranks_golden,ranks_jaccard, nan_policy='omit')"
   ]
  },
  {
   "cell_type": "markdown",
   "metadata": {},
   "source": [
    "## Отчёт\n",
    "0. Корпус с судебной тематикой, лемматизированный, очищен от стоп-слов (местоимения, предлоги и т.д.), объем - 5.100 словоупотреблений\n",
    "1. **Likelihood ratio.** Не вошли в золотой стандарт:\n",
    "     + ('СУД ', 'ПРИЗНАТЬ ') - полезная коллокация\n",
    "     + ('ВЫДАТЬ ', 'САНКЦИЯ ')\n",
    "     + ('СУД ', 'УДОВЛЕТВОРИТЬ ') - полезная коллокация\n",
    "     + ('УДОВЛЕТВОРИТЬ ', 'ХОДАТАЙСТВО ') - полезная коллокация\n",
    "     + ('САНКЦИЯ ', 'АРЕСТ '),\n",
    "     + ('МЕРА ', 'ПРЕСЕЧЕНИЕ '), - полезная коллокация (но часть речи нам не подходит)\n",
    "     + ('НАЛОЖИТЬ ', 'АРЕСТ ') - полезная коллокация\n",
    "     + ('СУД ', 'ВЫНЕСТИ ') - полезная коллокация\n",
    "2. **Jaccard** - в золотой стандарт не вошла ни одна из выделенных данным методом коллокаций.    \n",
    "    Ошибочными на мой взляд являются коллокации:\n",
    "     + (' БРИГАДИР ', 'ВИКТОР '),\n",
    "     + (' ВЗЯТЬ ', 'РЕАЛИЗАЦИЯ '),\n",
    "     + (' ВРЕМЯ ', 'КНЯЗЕВ '),\n"
   ]
  },
  {
   "cell_type": "code",
   "execution_count": null,
   "metadata": {
    "collapsed": true
   },
   "outputs": [],
   "source": []
  }
 ],
 "metadata": {
  "kernelspec": {
   "display_name": "Python 3",
   "language": "python",
   "name": "python3"
  },
  "language_info": {
   "codemirror_mode": {
    "name": "ipython",
    "version": 3
   },
   "file_extension": ".py",
   "mimetype": "text/x-python",
   "name": "python",
   "nbconvert_exporter": "python",
   "pygments_lexer": "ipython3",
   "version": "3.6.3"
  }
 },
 "nbformat": 4,
 "nbformat_minor": 2
}
