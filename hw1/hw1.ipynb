{
 "cells": [
  {
   "cell_type": "code",
   "execution_count": 9,
   "metadata": {
    "collapsed": true
   },
   "outputs": [],
   "source": [
    "import regex as re"
   ]
  },
  {
   "cell_type": "code",
   "execution_count": 45,
   "metadata": {
    "collapsed": true
   },
   "outputs": [],
   "source": [
    "from collections import Counter, OrderedDict"
   ]
  },
  {
   "cell_type": "code",
   "execution_count": 47,
   "metadata": {
    "collapsed": true
   },
   "outputs": [],
   "source": [
    "import numpy as np\n",
    "import math"
   ]
  },
  {
   "cell_type": "code",
   "execution_count": 27,
   "metadata": {},
   "outputs": [],
   "source": [
    "from stop_words import get_stop_words\n",
    "stop_words = get_stop_words('russian')"
   ]
  },
  {
   "cell_type": "code",
   "execution_count": 28,
   "metadata": {
    "collapsed": true
   },
   "outputs": [],
   "source": [
    "court = open('court-V-N.csv', 'r')\n",
    "ref = open('Sc_part1.txt', 'r', encoding='cp1251')"
   ]
  },
  {
   "cell_type": "code",
   "execution_count": 29,
   "metadata": {},
   "outputs": [],
   "source": [
    "ref_lines = ref.readlines()\n",
    "court_lines = court.readlines()"
   ]
  },
  {
   "cell_type": "code",
   "execution_count": 31,
   "metadata": {
    "collapsed": true
   },
   "outputs": [],
   "source": [
    "ref_tokens_ = re.findall('[А-Я]+?\\.', ' '.join(ref_lines))"
   ]
  },
  {
   "cell_type": "code",
   "execution_count": 34,
   "metadata": {
    "collapsed": true
   },
   "outputs": [],
   "source": [
    "ref_tokens = []\n",
    "for token in ref_tokens_:\n",
    "    token = token.strip('.').lower()\n",
    "    if token not in stop_words:\n",
    "        ref_tokens.append(token)"
   ]
  },
  {
   "cell_type": "code",
   "execution_count": 49,
   "metadata": {
    "scrolled": false
   },
   "outputs": [],
   "source": [
    "len_ref = len(ref_tokens)"
   ]
  },
  {
   "cell_type": "code",
   "execution_count": 36,
   "metadata": {},
   "outputs": [],
   "source": [
    "court_tokens = []\n",
    "for line in court_lines:\n",
    "    court_tokens.extend(line.split(','))"
   ]
  },
  {
   "cell_type": "code",
   "execution_count": 37,
   "metadata": {
    "collapsed": true
   },
   "outputs": [],
   "source": [
    "for i in range(len(court_tokens)):\n",
    "    court_tokens[i] =  court_tokens[i].strip().lower()"
   ]
  },
  {
   "cell_type": "code",
   "execution_count": 50,
   "metadata": {},
   "outputs": [],
   "source": [
    "len_court = len(court_tokens)"
   ]
  },
  {
   "cell_type": "code",
   "execution_count": 39,
   "metadata": {
    "collapsed": true
   },
   "outputs": [],
   "source": [
    "court_freq = Counter(court_tokens)\n",
    "ref_freq = Counter(ref_tokens)"
   ]
  },
  {
   "cell_type": "code",
   "execution_count": 51,
   "metadata": {},
   "outputs": [
    {
     "data": {
      "text/plain": [
       "(5100, 871777)"
      ]
     },
     "execution_count": 51,
     "metadata": {},
     "output_type": "execute_result"
    }
   ],
   "source": [
    "len_court, len_ref"
   ]
  },
  {
   "cell_type": "code",
   "execution_count": 40,
   "metadata": {
    "scrolled": true
   },
   "outputs": [
    {
     "data": {
      "text/plain": [
       "[('суд', 1047),\n",
       " ('решение', 93),\n",
       " ('признать', 81),\n",
       " ('иск', 63),\n",
       " ('дело', 56),\n",
       " ('удовлетворить', 56),\n",
       " ('арест', 53),\n",
       " ('вынести', 39),\n",
       " ('ходатайство', 38),\n",
       " ('год', 36)]"
      ]
     },
     "execution_count": 40,
     "metadata": {},
     "output_type": "execute_result"
    }
   ],
   "source": [
    "court_freq.most_common(10)"
   ]
  },
  {
   "cell_type": "code",
   "execution_count": 41,
   "metadata": {
    "scrolled": false
   },
   "outputs": [
    {
     "data": {
      "text/plain": [
       "[('россия', 11058),\n",
       " ('компания', 7416),\n",
       " ('рынок', 5857),\n",
       " ('проект', 5756),\n",
       " ('акция', 4023),\n",
       " ('москва', 3878),\n",
       " ('суд', 3816),\n",
       " ('украина', 3790),\n",
       " ('развитие', 3261),\n",
       " ('российский', 2999)]"
      ]
     },
     "execution_count": 41,
     "metadata": {},
     "output_type": "execute_result"
    }
   ],
   "source": [
    "ref_freq.most_common(10)"
   ]
  },
  {
   "cell_type": "code",
   "execution_count": 61,
   "metadata": {
    "collapsed": true
   },
   "outputs": [],
   "source": [
    "def llhood_word(word, corp_counter, ref_counter, len_corp, len_ref):\n",
    "    freq_word_corp = corp_counter[word]\n",
    "    freq_word_ref = ref_counter[word]\n",
    "    e_corp = len_corp*(freq_word_corp+freq_word_ref)/(len_corp+len_ref)\n",
    "    e_ref = len_ref*(freq_word_corp+freq_word_ref)/(len_corp+len_ref)\n",
    "    try:\n",
    "        llhood = 2*((freq_word_corp*math.log(freq_word_corp/e_corp)) + (freq_word_ref*math.log(freq_word_ref/e_ref)))\n",
    "    # по идее такого быть не должно, потому что будут использованы только слова, кот. есть в обоих корпусах\n",
    "    except (ValueError, ZeroDivisionError) as e:\n",
    "        return float('-inf')\n",
    "    return llhood"
   ]
  },
  {
   "cell_type": "code",
   "execution_count": 130,
   "metadata": {
    "collapsed": true
   },
   "outputs": [],
   "source": [
    "def llhood(corp_counter, ref_counter, len_corp, len_ref):\n",
    "    corp_ll_dict = {}\n",
    "    for word in corp_counter:\n",
    "        if word in ref_counter:\n",
    "            corp_ll_dict[word] = llhood_word(word, corp_counter, ref_counter, len_corp, len_ref)   \n",
    "    return OrderedDict(sorted(corp_ll_dict.items(), key=lambda t: t[1], reverse=True))"
   ]
  },
  {
   "cell_type": "code",
   "execution_count": 131,
   "metadata": {
    "collapsed": true
   },
   "outputs": [],
   "source": [
    "def weirdness_word(word, corp_counter, ref_counter, len_corp, len_ref):\n",
    "    try:   \n",
    "        return (corp_counter[word]/len_corp)/(ref_counter[word]/len_ref)\n",
    "    except ZeroDivisionError:\n",
    "        return 0"
   ]
  },
  {
   "cell_type": "code",
   "execution_count": 132,
   "metadata": {
    "collapsed": true
   },
   "outputs": [],
   "source": [
    "def weirdness(corp_counter, ref_counter, len_corp, len_ref):\n",
    "    corp_weird_dict = {}\n",
    "    for word in corp_counter:\n",
    "        corp_weird_dict[word] = weirdness_word(word, corp_counter, ref_counter, len_corp, len_ref) \n",
    "    return OrderedDict(sorted(corp_weird_dict.items(), key=lambda t: t[1], reverse=True))"
   ]
  },
  {
   "cell_type": "code",
   "execution_count": 133,
   "metadata": {
    "scrolled": false
   },
   "outputs": [],
   "source": [
    "llhood_dict = llhood(court_freq, ref_freq, len_court, len_ref)"
   ]
  },
  {
   "cell_type": "code",
   "execution_count": 134,
   "metadata": {
    "scrolled": true
   },
   "outputs": [],
   "source": [
    "weirdness_dict = weirdness(court_freq, ref_freq, len_court, len_ref)"
   ]
  },
  {
   "cell_type": "code",
   "execution_count": 141,
   "metadata": {
    "collapsed": true
   },
   "outputs": [],
   "source": [
    "def get_likelihood_stats(num, which, llhood_dict, weirdness_dict, corp_freq, ref_freq):\n",
    "    if which == 'first':\n",
    "        needed = list(llhood_dict.items())[:num]\n",
    "    else:\n",
    "        needed = list(llhood_dict.items())[-num:]\n",
    "    for pair in needed:\n",
    "#         printlist = [str(pair[0]), str(corp_freq[pair[0]]), str(ref_freq[pair[0]]), str(pair[1]), \n",
    "#                     str(list(llhood_dict.keys()).index(pair[0])+1), str(weirdness_dict[pair[0]]),\n",
    "#                     str(list(weirdness_dict.keys()).index(pair[0])+1)]\n",
    "#         print('\\t'.join(printlist))\n",
    "        print('Word: '+str(pair[0]))\n",
    "        print('CountSpec: '+str(corp_freq[pair[0]]))\n",
    "        print('CountRef: '+str(ref_freq[pair[0]]))\n",
    "        print('LogLikelihood: '+str(pair[1]))\n",
    "        print('L Range: '+str(list(llhood_dict.keys()).index(pair[0])+1))\n",
    "        print('Weirdness: '+str(weirdness_dict[pair[0]]))\n",
    "        print('W Range: '+str(list(weirdness_dict.keys()).index(pair[0])+1)+'\\n')"
   ]
  },
  {
   "cell_type": "code",
   "execution_count": 142,
   "metadata": {},
   "outputs": [
    {
     "name": "stdout",
     "output_type": "stream",
     "text": [
      "Word: суд\n",
      "CountSpec: 1047\n",
      "CountRef: 3816\n",
      "LogLikelihood: 5756.389170072415\n",
      "L Range: 1\n",
      "Weirdness: 46.90007599580713\n",
      "W Range: 72\n",
      "\n",
      "Word: признать\n",
      "CountSpec: 81\n",
      "CountRef: 380\n",
      "LogLikelihood: 409.7054991385812\n",
      "L Range: 2\n",
      "Weirdness: 36.436499999999995\n",
      "W Range: 87\n",
      "\n",
      "Word: удовлетворить\n",
      "CountSpec: 56\n",
      "CountRef: 76\n",
      "LogLikelihood: 397.415910333734\n",
      "L Range: 3\n",
      "Weirdness: 125.95333333333333\n",
      "W Range: 19\n",
      "\n",
      "Word: решение\n",
      "CountSpec: 93\n",
      "CountRef: 1272\n",
      "LogLikelihood: 293.03638944164834\n",
      "L Range: 4\n",
      "Weirdness: 12.497727987421383\n",
      "W Range: 254\n",
      "\n",
      "Word: арест\n",
      "CountSpec: 53\n",
      "CountRef: 462\n",
      "LogLikelihood: 209.6061316254691\n",
      "L Range: 5\n",
      "Weirdness: 19.609617604617604\n",
      "W Range: 172\n",
      "\n",
      "Word: иск\n",
      "CountSpec: 63\n",
      "CountRef: 880\n",
      "LogLikelihood: 196.16263479900107\n",
      "L Range: 6\n",
      "Weirdness: 12.237511363636363\n",
      "W Range: 256\n",
      "\n",
      "Word: ходатайство\n",
      "CountSpec: 38\n",
      "CountRef: 242\n",
      "LogLikelihood: 171.6250284329522\n",
      "L Range: 7\n",
      "Weirdness: 26.84129476584022\n",
      "W Range: 128\n",
      "\n",
      "Word: вынести\n",
      "CountSpec: 39\n",
      "CountRef: 370\n",
      "LogLikelihood: 148.3233529721466\n",
      "L Range: 8\n",
      "Weirdness: 18.01764864864865\n",
      "W Range: 189\n",
      "\n",
      "Word: приговорить\n",
      "CountSpec: 30\n",
      "CountRef: 228\n",
      "LogLikelihood: 126.01375733705272\n",
      "L Range: 9\n",
      "Weirdness: 22.491666666666667\n",
      "W Range: 153\n",
      "\n",
      "Word: отказать\n",
      "CountSpec: 29\n",
      "CountRef: 220\n",
      "LogLikelihood: 121.90760797382346\n",
      "L Range: 10\n",
      "Weirdness: 22.532560606060606\n",
      "W Range: 152\n",
      "\n"
     ]
    }
   ],
   "source": [
    "get_likelihood_stats(10, 'first', llhood_dict, weirdness_dict, court_freq, ref_freq)"
   ]
  },
  {
   "cell_type": "code",
   "execution_count": 143,
   "metadata": {
    "scrolled": false
   },
   "outputs": [
    {
     "name": "stdout",
     "output_type": "stream",
     "text": [
      "Word: раскрывать\n",
      "CountSpec: 1\n",
      "CountRef: 167\n",
      "LogLikelihood: 0.0005355086840733922\n",
      "L Range: 1250\n",
      "Weirdness: 1.023572854291417\n",
      "W Range: 1008\n",
      "\n",
      "Word: появиться\n",
      "CountSpec: 2\n",
      "CountRef: 347\n",
      "LogLikelihood: 0.0004427250139963576\n",
      "L Range: 1251\n",
      "Weirdness: 0.9852257444764648\n",
      "W Range: 1016\n",
      "\n",
      "Word: очередь\n",
      "CountSpec: 2\n",
      "CountRef: 337\n",
      "LogLikelihood: 0.0004079042864255228\n",
      "L Range: 1252\n",
      "Weirdness: 1.0144609297725025\n",
      "W Range: 1012\n",
      "\n",
      "Word: лишить\n",
      "CountSpec: 1\n",
      "CountRef: 174\n",
      "LogLikelihood: 0.00031553632261371867\n",
      "L Range: 1253\n",
      "Weirdness: 0.9823946360153256\n",
      "W Range: 1017\n",
      "\n",
      "Word: письмо\n",
      "CountSpec: 1\n",
      "CountRef: 168\n",
      "LogLikelihood: 0.000296825323790717\n",
      "L Range: 1254\n",
      "Weirdness: 1.0174801587301587\n",
      "W Range: 1009\n",
      "\n",
      "Word: покушение\n",
      "CountSpec: 1\n",
      "CountRef: 168\n",
      "LogLikelihood: 0.000296825323790717\n",
      "L Range: 1255\n",
      "Weirdness: 1.0174801587301587\n",
      "W Range: 1010\n",
      "\n",
      "Word: банковский\n",
      "CountSpec: 1\n",
      "CountRef: 168\n",
      "LogLikelihood: 0.000296825323790717\n",
      "L Range: 1256\n",
      "Weirdness: 1.0174801587301587\n",
      "W Range: 1011\n",
      "\n",
      "Word: отдел\n",
      "CountSpec: 1\n",
      "CountRef: 170\n",
      "LogLikelihood: 2.9960696548954682e-05\n",
      "L Range: 1257\n",
      "Weirdness: 1.0055098039215686\n",
      "W Range: 1013\n",
      "\n",
      "Word: предоставлять\n",
      "CountSpec: 1\n",
      "CountRef: 170\n",
      "LogLikelihood: 2.9960696548954682e-05\n",
      "L Range: 1258\n",
      "Weirdness: 1.0055098039215686\n",
      "W Range: 1014\n",
      "\n",
      "Word: бумага\n",
      "CountSpec: 1\n",
      "CountRef: 170\n",
      "LogLikelihood: 2.9960696548954682e-05\n",
      "L Range: 1259\n",
      "Weirdness: 1.0055098039215686\n",
      "W Range: 1015\n",
      "\n"
     ]
    }
   ],
   "source": [
    "get_likelihood_stats(10, 'last', llhood_dict, weirdness_dict, court_freq, ref_freq)"
   ]
  },
  {
   "cell_type": "code",
   "execution_count": 150,
   "metadata": {
    "scrolled": true
   },
   "outputs": [],
   "source": [
    "by_hand = set(['суд', 'ходатайство', 'срок', 'арест', 'адвокат', 'иск', 'истец', 'уголовный', 'дело', 'подсудимый'])"
   ]
  },
  {
   "cell_type": "code",
   "execution_count": 151,
   "metadata": {
    "collapsed": true
   },
   "outputs": [],
   "source": [
    "top_llhood = set(list(llhood_dict.keys())[:10])"
   ]
  },
  {
   "cell_type": "code",
   "execution_count": 153,
   "metadata": {},
   "outputs": [
    {
     "data": {
      "text/plain": [
       "0.4"
      ]
     },
     "execution_count": 153,
     "metadata": {},
     "output_type": "execute_result"
    }
   ],
   "source": [
    "# precision\n",
    "len(by_hand.intersection(top_llhood))/len(top_llhood)"
   ]
  }
 ],
 "metadata": {
  "kernelspec": {
   "display_name": "Python 3",
   "language": "python",
   "name": "python3"
  },
  "language_info": {
   "codemirror_mode": {
    "name": "ipython",
    "version": 3
   },
   "file_extension": ".py",
   "mimetype": "text/x-python",
   "name": "python",
   "nbconvert_exporter": "python",
   "pygments_lexer": "ipython3",
   "version": "3.6.3"
  }
 },
 "nbformat": 4,
 "nbformat_minor": 2
}
